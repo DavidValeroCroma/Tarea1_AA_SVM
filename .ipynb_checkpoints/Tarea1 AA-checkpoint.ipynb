{
 "cells": [
  {
   "cell_type": "markdown",
   "id": "18279912",
   "metadata": {},
   "source": [
    "# Laboratorio 1 de Aprendizaje Automatico SVM \n",
    "Nombre: David Valero Croma\n",
    "Profesora: Violeta Chang Camacho\n",
    "Ayudante: "
   ]
  },
  {
   "cell_type": "markdown",
   "id": "7be01f2f",
   "metadata": {},
   "source": [
    "## Preeliminares\n",
    "Aquí se realizan los import, cargan los archivos de las imagenes y preprocesamiento de los datos (vectores, vectores-pca, vectores-umap)."
   ]
  },
  {
   "cell_type": "code",
   "execution_count": 1,
   "id": "83a92acb",
   "metadata": {},
   "outputs": [],
   "source": [
    "#Imports\n",
    "import numpy as np\n",
    "import pandas as pd\n",
    "import cv2\n",
    "import os\n",
    "from sklearn.model_selection import train_test_split\n",
    "from sklearn.decomposition import PCA\n",
    "import umap\n",
    "from sklearn.svm import SVC\n",
    "from sklearn.metrics import classification_report, accuracy_score\n",
    "import matplotlib.pyplot as plt\n",
    "from tqdm import tqdm"
   ]
  },
  {
   "cell_type": "code",
   "execution_count": 2,
   "id": "c30edc58",
   "metadata": {},
   "outputs": [
    {
     "name": "stderr",
     "output_type": "stream",
     "text": [
      "Leyendo QuickDraw-10\\train_40.txt: 3930it [00:23, 166.21it/s]\n",
      "Leyendo QuickDraw-10\\test.txt: 1166it [00:07, 163.13it/s]"
     ]
    },
    {
     "name": "stdout",
     "output_type": "stream",
     "text": [
      "Train shape: (3930, 65536), Test shape: (1166, 65536)\n"
     ]
    },
    {
     "name": "stderr",
     "output_type": "stream",
     "text": [
      "\n"
     ]
    }
   ],
   "source": [
    "#Cargamos archivos\n",
    "\n",
    "# Rutas\n",
    "ROOT_DIR = \"QuickDraw-10\"\n",
    "IMAGES_DIR = os.path.join(ROOT_DIR, \"images\")\n",
    "TRAIN_PATH = os.path.join(ROOT_DIR, \"train_40.txt\")\n",
    "TEST_PATH = os.path.join(ROOT_DIR, \"test.txt\")\n",
    "MAPPING_PATH = os.path.join(ROOT_DIR, \"mapping.txt\")\n",
    "\n",
    "# Cargar mapping\n",
    "mapping_df = pd.read_csv(MAPPING_PATH, sep=\"\\t\", header=None, names=[\"class\", \"label\"])\n",
    "label2name = dict(zip(mapping_df.label, mapping_df[\"class\"]))\n",
    "name2label = dict(zip(mapping_df[\"class\"], mapping_df.label))\n",
    "\n",
    "# Función para cargar imágenes\n",
    "def load_dataset(txt_file):\n",
    "    X, y = [], []\n",
    "    with open(txt_file, 'r') as f:\n",
    "        for line in tqdm(f, desc=f\"Leyendo {txt_file}\"):\n",
    "            rel_path, label = line.strip().split('\\t')\n",
    "            full_path = os.path.join(ROOT_DIR, rel_path)\n",
    "            img = cv2.imread(full_path, cv2.IMREAD_GRAYSCALE)\n",
    "            if img is not None:\n",
    "                X.append(img.flatten())  # vector de 256x256 → 65536\n",
    "                y.append(int(label))\n",
    "    return np.array(X), np.array(y)\n",
    "\n",
    "# Carga\n",
    "X_train, y_train = load_dataset(TRAIN_PATH)\n",
    "X_test, y_test = load_dataset(TEST_PATH)\n",
    "\n",
    "print(f\"Train shape: {X_train.shape}, Test shape: {X_test.shape}\")\n"
   ]
  },
  {
   "cell_type": "code",
   "execution_count": 3,
   "id": "3f221032",
   "metadata": {},
   "outputs": [],
   "source": [
    "def aplicar_pca(X_train, X_test, n_componentes=256):\n",
    "    pca = PCA(n_components=n_componentes, random_state=42)\n",
    "    X_train_pca = pca.fit_transform(X_train)\n",
    "    X_test_pca = pca.transform(X_test)\n",
    "    return X_train_pca, X_test_pca, pca\n",
    "\n",
    "\n",
    "def aplicar_umap(X_train, X_test, n_componentes=256):\n",
    "    umap_model = umap.UMAP(n_components=n_componentes)\n",
    "    X_train_umap = umap_model.fit_transform(X_train)\n",
    "    X_test_umap = umap_model.transform(X_test)\n",
    "    return X_train_umap, X_test_umap, umap_model\n"
   ]
  },
  {
   "cell_type": "code",
   "execution_count": 4,
   "id": "2aab492e",
   "metadata": {},
   "outputs": [],
   "source": [
    "def entrenar_svm(X_train, y_train, kernel='rbf', C=1.0, gamma='scale'):\n",
    "    \"\"\"\n",
    "    Entrena una SVM con el kernel especificado.\n",
    "\n",
    "    Parámetros:\n",
    "    - X_train: características de entrenamiento\n",
    "    - y_train: etiquetas de entrenamiento\n",
    "    - kernel: tipo de kernel (e.g., 'rbf', 'linear', 'poly', 'sigmoid')\n",
    "    - C: parámetro de penalización\n",
    "    - gamma: coeficiente del kernel (solo para 'rbf', 'poly', 'sigmoid')\n",
    "\n",
    "    Retorna:\n",
    "    - modelo entrenado (SVC)\n",
    "    \"\"\"\n",
    "    clf = SVC(kernel=kernel, C=C, gamma=gamma, random_state=42)\n",
    "    clf.fit(X_train, y_train)\n",
    "    return clf"
   ]
  },
  {
   "cell_type": "code",
   "execution_count": 5,
   "id": "173b1fb0",
   "metadata": {},
   "outputs": [],
   "source": [
    "def evaluar_modelo(modelo, X_test, y_test, label2name):\n",
    "    \"\"\"\n",
    "    Evalúa el modelo y entrega métricas de desempeño.\n",
    "\n",
    "    Parámetros:\n",
    "    - modelo: modelo SVM ya entrenado\n",
    "    - X_test: datos de prueba\n",
    "    - y_test: etiquetas de prueba\n",
    "    - label2name: diccionario de id → nombre clase\n",
    "\n",
    "    Retorna:\n",
    "    - accuracy_total: precisión global\n",
    "    - accuracy_por_clase: diccionario clase → accuracy\n",
    "    - y_pred: predicciones\n",
    "    \"\"\"\n",
    "    y_pred = modelo.predict(X_test)\n",
    "    accuracy_total = accuracy_score(y_test, y_pred)\n",
    "\n",
    "    reporte = classification_report(y_test, y_pred, output_dict=True, zero_division=0)\n",
    "    accuracy_por_clase = {label2name[int(k)]: v['precision'] for k, v in reporte.items() if k.isdigit()}\n",
    "\n",
    "    return accuracy_total, accuracy_por_clase, y_pred"
   ]
  },
  {
   "cell_type": "code",
   "execution_count": 6,
   "id": "28927b1e",
   "metadata": {},
   "outputs": [],
   "source": [
    "def graficar_accuracy_por_clase(accuracy_dict, titulo):\n",
    "    \"\"\"\n",
    "    Grafica accuracy por clase.\n",
    "\n",
    "    Parámetros:\n",
    "    - accuracy_dict: diccionario clase → valor de accuracy\n",
    "    - titulo: título del gráfico\n",
    "    \"\"\"\n",
    "    clases = list(accuracy_dict.keys())\n",
    "    valores = list(accuracy_dict.values())\n",
    "\n",
    "    plt.figure(figsize=(10, 5))\n",
    "    plt.bar(clases, valores)\n",
    "    plt.ylabel(\"Accuracy\")\n",
    "    plt.ylim(0, 1)\n",
    "    plt.title(titulo)\n",
    "    plt.xticks(rotation=45)\n",
    "    plt.tight_layout()\n",
    "    plt.show()"
   ]
  },
  {
   "cell_type": "code",
   "execution_count": null,
   "id": "3cf0abb4",
   "metadata": {},
   "outputs": [],
   "source": [
    "# Entrenar con imágenes originales\n",
    "modelo_rbf = entrenar_svm(X_train, y_train, kernel='rbf')\n",
    "\n",
    "acc_total, acc_clase, pred = evaluar_modelo(modelo_rbf, X_test, y_test, label2name)\n",
    "\n",
    "print(f\"Accuracy Total (RBF): {acc_total:.4f}\")\n",
    "graficar_accuracy_por_clase(acc_clase, \"Accuracy por clase - Kernel RBF\")"
   ]
  },
  {
   "cell_type": "code",
   "execution_count": null,
   "id": "e70b28f6",
   "metadata": {},
   "outputs": [],
   "source": [
    "# === PCA ===\n",
    "X_train_pca, X_test_pca, modelo_pca = aplicar_pca(X_train, X_test, n_componentes=256)\n",
    "\n",
    "modelo_pca_rbf = entrenar_svm(X_train_pca, y_train, kernel='rbf')\n",
    "acc_total_pca_rbf, acc_clase_pca_rbf, _ = evaluar_modelo(modelo_pca_rbf, X_test_pca, y_test, label2name)\n",
    "\n",
    "modelo_pca_linear = entrenar_svm(X_train_pca, y_train, kernel='linear')\n",
    "acc_total_pca_linear, acc_clase_pca_linear, _ = evaluar_modelo(modelo_pca_linear, X_test_pca, y_test, label2name)\n"
   ]
  },
  {
   "cell_type": "code",
   "execution_count": null,
   "id": "935b226f",
   "metadata": {},
   "outputs": [],
   "source": [
    "# === UMAP ===\n",
    "X_train_umap, X_test_umap, modelo_umap = aplicar_umap(X_train, X_test, n_componentes=256)\n",
    "\n",
    "modelo_umap_rbf = entrenar_svm(X_train_umap, y_train, kernel='rbf')\n",
    "acc_total_umap_rbf, acc_clase_umap_rbf, _ = evaluar_modelo(modelo_umap_rbf, X_test_umap, y_test, label2name)\n",
    "\n",
    "modelo_umap_linear = entrenar_svm(X_train_umap, y_train, kernel='linear')\n",
    "acc_total_umap_linear, acc_clase_umap_linear, _ = evaluar_modelo(modelo_umap_linear, X_test_umap, y_test, label2name)\n"
   ]
  },
  {
   "cell_type": "code",
   "execution_count": null,
   "id": "3a297b02",
   "metadata": {},
   "outputs": [],
   "source": [
    "# Accuracy total por enfoque y kernel\n",
    "resultados_totales = {\n",
    "    \"Original - RBF\": acc_total,\n",
    "    \"PCA - RBF\": acc_total_pca_rbf,\n",
    "    \"PCA - Linear\": acc_total_pca_linear,\n",
    "    \"UMAP - RBF\": acc_total_umap_rbf,\n",
    "    \"UMAP - Linear\": acc_total_umap_linear\n",
    "}\n",
    "\n",
    "# Gráfico resumen\n",
    "plt.figure(figsize=(8, 5))\n",
    "plt.bar(resultados_totales.keys(), resultados_totales.values())\n",
    "plt.ylim(0, 1)\n",
    "plt.ylabel(\"Accuracy Total\")\n",
    "plt.title(\"Comparación de accuracy total por técnica y kernel\")\n",
    "plt.xticks(rotation=45)\n",
    "plt.tight_layout()\n",
    "plt.show()\n"
   ]
  }
 ],
 "metadata": {
  "kernelspec": {
   "display_name": "Python 3 (ipykernel)",
   "language": "python",
   "name": "python3"
  },
  "language_info": {
   "codemirror_mode": {
    "name": "ipython",
    "version": 3
   },
   "file_extension": ".py",
   "mimetype": "text/x-python",
   "name": "python",
   "nbconvert_exporter": "python",
   "pygments_lexer": "ipython3",
   "version": "3.8.20"
  }
 },
 "nbformat": 4,
 "nbformat_minor": 5
}
